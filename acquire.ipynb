{
 "cells": [
  {
   "cell_type": "markdown",
   "metadata": {},
   "source": [
    "# Web Scraping"
   ]
  },
  {
   "cell_type": "code",
   "execution_count": 1,
   "metadata": {},
   "outputs": [],
   "source": [
    "from requests import get\n",
    "from bs4 import BeautifulSoup\n",
    "import pandas as pd"
   ]
  },
  {
   "cell_type": "code",
   "execution_count": 2,
   "metadata": {},
   "outputs": [
    {
     "data": {
      "text/plain": [
       "<Response [200]>"
      ]
     },
     "execution_count": 2,
     "metadata": {},
     "output_type": "execute_result"
    }
   ],
   "source": [
    "url = 'https://web-scraping-demo.zgulde.net/news'\n",
    "response = get(url)\n",
    "response"
   ]
  },
  {
   "cell_type": "code",
   "execution_count": 3,
   "metadata": {},
   "outputs": [
    {
     "name": "stdout",
     "output_type": "stream",
     "text": [
      "<!DOCTYPE html>\n",
      "<html lang=\"en\">\n",
      "<head>\n",
      "    <meta charset=\"UTF-8\">\n",
      "    <meta http-equiv=\"X-UA-Compatible\" content=\"IE=edge\">\n",
      "    <meta name=\"viewport\" content=\"width=device-width, initial-scale=1.0\">\n",
      "    <title>News Example Page</title>\n",
      "    <link href=\"https://unpkg.com/tailwindcss@^2/dist/tailwind.min.css\" rel=\"stylesheet\" />\n",
      "    <link rel=\"stylesheet\" href=\"https://cdn.jsdelivr.net/npm/bootstrap\n"
     ]
    }
   ],
   "source": [
    "print(response.text[:400])"
   ]
  },
  {
   "cell_type": "code",
   "execution_count": null,
   "metadata": {},
   "outputs": [],
   "source": []
  },
  {
   "cell_type": "code",
   "execution_count": 4,
   "metadata": {},
   "outputs": [],
   "source": [
    "# Make a soup variable holding the response content\n",
    "soup = BeautifulSoup(response.text, 'html.parser')"
   ]
  },
  {
   "cell_type": "code",
   "execution_count": 5,
   "metadata": {},
   "outputs": [],
   "source": [
    "articles = soup.select('div.grid.grid-cols-4')"
   ]
  },
  {
   "cell_type": "code",
   "execution_count": 6,
   "metadata": {},
   "outputs": [
    {
     "data": {
      "text/plain": [
       "<div class=\"grid grid-cols-4 gap-x-4 border rounded pr-3 bg-green-50 hover:shadow-lg transition duration-500\">\n",
       "<img src=\"/static/placeholder.png\"/>\n",
       "<div class=\"col-span-3 space-y-3 py-3\">\n",
       "<h2 class=\"text-2xl text-green-900\">reality data century</h2>\n",
       "<div class=\"grid grid-cols-2 italic\">\n",
       "<p> 1982-05-18 </p>\n",
       "<p class=\"text-right\">By John Fitzpatrick DVM </p>\n",
       "</div>\n",
       "<p>Now impact million few simply. Appear citizen station production. Politics board matter area later themselves people.\n",
       "Energy any personal difference majority entire teach. Process hundred in cause. Cell cell performance walk their rate worker.</p>\n",
       "</div>\n",
       "</div>"
      ]
     },
     "execution_count": 6,
     "metadata": {},
     "output_type": "execute_result"
    }
   ],
   "source": [
    "article = articles[0]\n",
    "article"
   ]
  },
  {
   "cell_type": "code",
   "execution_count": 7,
   "metadata": {},
   "outputs": [],
   "source": [
    "def parse_news_article(article):\n",
    "    output = {}\n",
    "    output['headline'] = article.find('h2').text\n",
    "    output['date'], output['byline'], output['description'] = [p.text for p in article.find_all('p')]\n",
    "    return output"
   ]
  },
  {
   "cell_type": "code",
   "execution_count": 8,
   "metadata": {},
   "outputs": [
    {
     "data": {
      "text/html": [
       "<div>\n",
       "<style scoped>\n",
       "    .dataframe tbody tr th:only-of-type {\n",
       "        vertical-align: middle;\n",
       "    }\n",
       "\n",
       "    .dataframe tbody tr th {\n",
       "        vertical-align: top;\n",
       "    }\n",
       "\n",
       "    .dataframe thead th {\n",
       "        text-align: right;\n",
       "    }\n",
       "</style>\n",
       "<table border=\"1\" class=\"dataframe\">\n",
       "  <thead>\n",
       "    <tr style=\"text-align: right;\">\n",
       "      <th></th>\n",
       "      <th>headline</th>\n",
       "      <th>date</th>\n",
       "      <th>byline</th>\n",
       "      <th>description</th>\n",
       "    </tr>\n",
       "  </thead>\n",
       "  <tbody>\n",
       "    <tr>\n",
       "      <th>0</th>\n",
       "      <td>reality data century</td>\n",
       "      <td>1982-05-18</td>\n",
       "      <td>By John Fitzpatrick DVM</td>\n",
       "      <td>Now impact million few simply. Appear citizen ...</td>\n",
       "    </tr>\n",
       "    <tr>\n",
       "      <th>1</th>\n",
       "      <td>deep series success</td>\n",
       "      <td>1970-05-16</td>\n",
       "      <td>By Chase Johnson</td>\n",
       "      <td>Election world property moment focus close. Gu...</td>\n",
       "    </tr>\n",
       "    <tr>\n",
       "      <th>2</th>\n",
       "      <td>benefit week into</td>\n",
       "      <td>2004-05-21</td>\n",
       "      <td>By Dr. Terry Solis</td>\n",
       "      <td>Voice try include force argue mother across.\\n...</td>\n",
       "    </tr>\n",
       "    <tr>\n",
       "      <th>3</th>\n",
       "      <td>agency stop represent</td>\n",
       "      <td>1986-10-03</td>\n",
       "      <td>By John Herrera</td>\n",
       "      <td>Share team particularly throughout when. Reali...</td>\n",
       "    </tr>\n",
       "    <tr>\n",
       "      <th>4</th>\n",
       "      <td>energy economic race</td>\n",
       "      <td>2018-06-25</td>\n",
       "      <td>By Karen Robinson</td>\n",
       "      <td>College public practice hot. Two age measure s...</td>\n",
       "    </tr>\n",
       "    <tr>\n",
       "      <th>5</th>\n",
       "      <td>machine school office</td>\n",
       "      <td>1992-04-20</td>\n",
       "      <td>By Joshua Harrison</td>\n",
       "      <td>Woman talk yard want travel life fly. Performa...</td>\n",
       "    </tr>\n",
       "    <tr>\n",
       "      <th>6</th>\n",
       "      <td>oil should visit</td>\n",
       "      <td>2004-07-14</td>\n",
       "      <td>By Antonio Newton</td>\n",
       "      <td>Over admit song per or who. Everybody senior f...</td>\n",
       "    </tr>\n",
       "    <tr>\n",
       "      <th>7</th>\n",
       "      <td>compare sing company</td>\n",
       "      <td>1992-05-29</td>\n",
       "      <td>By Amy Lewis</td>\n",
       "      <td>Team population heavy hotel. Network would foc...</td>\n",
       "    </tr>\n",
       "    <tr>\n",
       "      <th>8</th>\n",
       "      <td>time range customer</td>\n",
       "      <td>1975-04-05</td>\n",
       "      <td>By Edward Johnson</td>\n",
       "      <td>Class put management collection mind left simp...</td>\n",
       "    </tr>\n",
       "    <tr>\n",
       "      <th>9</th>\n",
       "      <td>individual training onto</td>\n",
       "      <td>1986-01-27</td>\n",
       "      <td>By Rachel Morgan</td>\n",
       "      <td>Tend join situation allow show notice. Task te...</td>\n",
       "    </tr>\n",
       "    <tr>\n",
       "      <th>10</th>\n",
       "      <td>half less work</td>\n",
       "      <td>1980-07-28</td>\n",
       "      <td>By Juan Dalton</td>\n",
       "      <td>Response material fly again above situation bo...</td>\n",
       "    </tr>\n",
       "    <tr>\n",
       "      <th>11</th>\n",
       "      <td>example hear eye</td>\n",
       "      <td>1977-06-21</td>\n",
       "      <td>By Jennifer Johnson</td>\n",
       "      <td>Authority another second natural but. Player c...</td>\n",
       "    </tr>\n",
       "  </tbody>\n",
       "</table>\n",
       "</div>"
      ],
      "text/plain": [
       "                    headline          date                    byline  \\\n",
       "0       reality data century   1982-05-18   By John Fitzpatrick DVM    \n",
       "1        deep series success   1970-05-16          By Chase Johnson    \n",
       "2          benefit week into   2004-05-21        By Dr. Terry Solis    \n",
       "3      agency stop represent   1986-10-03           By John Herrera    \n",
       "4       energy economic race   2018-06-25         By Karen Robinson    \n",
       "5      machine school office   1992-04-20        By Joshua Harrison    \n",
       "6           oil should visit   2004-07-14         By Antonio Newton    \n",
       "7       compare sing company   1992-05-29              By Amy Lewis    \n",
       "8        time range customer   1975-04-05         By Edward Johnson    \n",
       "9   individual training onto   1986-01-27          By Rachel Morgan    \n",
       "10            half less work   1980-07-28            By Juan Dalton    \n",
       "11          example hear eye   1977-06-21       By Jennifer Johnson    \n",
       "\n",
       "                                          description  \n",
       "0   Now impact million few simply. Appear citizen ...  \n",
       "1   Election world property moment focus close. Gu...  \n",
       "2   Voice try include force argue mother across.\\n...  \n",
       "3   Share team particularly throughout when. Reali...  \n",
       "4   College public practice hot. Two age measure s...  \n",
       "5   Woman talk yard want travel life fly. Performa...  \n",
       "6   Over admit song per or who. Everybody senior f...  \n",
       "7   Team population heavy hotel. Network would foc...  \n",
       "8   Class put management collection mind left simp...  \n",
       "9   Tend join situation allow show notice. Task te...  \n",
       "10  Response material fly again above situation bo...  \n",
       "11  Authority another second natural but. Player c...  "
      ]
     },
     "execution_count": 8,
     "metadata": {},
     "output_type": "execute_result"
    }
   ],
   "source": [
    "pd.DataFrame([parse_news_article(article) for article in articles])"
   ]
  },
  {
   "cell_type": "markdown",
   "metadata": {},
   "source": [
    "mini exercise"
   ]
  },
  {
   "cell_type": "code",
   "execution_count": 10,
   "metadata": {},
   "outputs": [
    {
     "data": {
      "text/plain": [
       "<Response [200]>"
      ]
     },
     "execution_count": 10,
     "metadata": {},
     "output_type": "execute_result"
    }
   ],
   "source": [
    "# access the website\n",
    "url = 'https://web-scraping-demo.zgulde.net/people'\n",
    "response = get(url)\n",
    "response"
   ]
  },
  {
   "cell_type": "code",
   "execution_count": 11,
   "metadata": {},
   "outputs": [
    {
     "name": "stdout",
     "output_type": "stream",
     "text": [
      "<!DOCTYPE html>\n",
      "<html lang=\"en\">\n",
      "<head>\n",
      "    <meta charset=\"UTF-8\">\n",
      "    <meta http-equiv=\"X-UA-Compatible\" content=\"IE=edge\">\n",
      "    <meta name=\"viewport\" content=\"width=device-width, initial-scale=1.0\">\n",
      "    <title>Example People Page</title>\n",
      "    <link href=\"https://unpkg.com/tailwindcss@^2/dist/tailwind.min.css\" rel=\"stylesheet\" />\n",
      "    <link rel=\"stylesheet\" href=\"https://cdn.jsdelivr.net/npm/bootstr\n"
     ]
    }
   ],
   "source": [
    "print(response.text[:400])"
   ]
  },
  {
   "cell_type": "code",
   "execution_count": 12,
   "metadata": {},
   "outputs": [
    {
     "data": {
      "text/plain": [
       "<div class=\"person border rounded px-3 py-5 grid grid-cols-2 gap-x-3 bg-purple-50 hover:shadow-lg transition duration-500\">\n",
       "<h2 class=\"text-2xl text-purple-800 name col-span-full border-b\">Claudia Oliver</h2>\n",
       "<p class=\"quote col-span-full px-5 py-5 text-center text-gray-500\">\n",
       "            \"Front-line dedicated conglomeration\"\n",
       "        </p>\n",
       "<div class=\"grid grid-cols-9\">\n",
       "<i class=\"bi bi-envelope-fill text-purple-800\"></i>\n",
       "<p class=\"email col-span-8\">tranrachel@contreras.org</p>\n",
       "<i class=\"bi bi-telephone-fill text-purple-800\"></i>\n",
       "<p class=\"phone col-span-8\">(891)667-8448</p>\n",
       "</div>\n",
       "<div class=\"address grid grid-cols-9\">\n",
       "<i class=\"bi bi-geo-fill text-purple-800\"></i>\n",
       "<p class=\"col-span-8\">\n",
       "                7156 Laura Vista <br/>\n",
       "                New Randyfurt, NE 35017\n",
       "            </p>\n",
       "</div>\n",
       "</div>"
      ]
     },
     "execution_count": 12,
     "metadata": {},
     "output_type": "execute_result"
    }
   ],
   "source": [
    "# Make a soup variable holding the response content\n",
    "soup = BeautifulSoup(response.text)\n",
    "people = soup.select('div.person')\n",
    "people[0]"
   ]
  },
  {
   "cell_type": "code",
   "execution_count": 23,
   "metadata": {},
   "outputs": [],
   "source": [
    "# create a function to parse the people article\n",
    "def parse_people_article(person):\n",
    "    output = {}\n",
    "    output['name'] = person.find('h2').text\n",
    "    output['quote'] = person.select('.quote')[0].text.strip()\n",
    "    output['email_address'] = person.select_one('.email').text\n",
    "    output['phone_number'] = person.select_one('.phone').text\n",
    "    output['address'] = person.select_one('.address').text.strip()\n",
    "    return output"
   ]
  },
  {
   "cell_type": "code",
   "execution_count": 24,
   "metadata": {},
   "outputs": [
    {
     "data": {
      "text/html": [
       "<div>\n",
       "<style scoped>\n",
       "    .dataframe tbody tr th:only-of-type {\n",
       "        vertical-align: middle;\n",
       "    }\n",
       "\n",
       "    .dataframe tbody tr th {\n",
       "        vertical-align: top;\n",
       "    }\n",
       "\n",
       "    .dataframe thead th {\n",
       "        text-align: right;\n",
       "    }\n",
       "</style>\n",
       "<table border=\"1\" class=\"dataframe\">\n",
       "  <thead>\n",
       "    <tr style=\"text-align: right;\">\n",
       "      <th></th>\n",
       "      <th>name</th>\n",
       "      <th>quote</th>\n",
       "      <th>email_address</th>\n",
       "      <th>phone_number</th>\n",
       "      <th>address</th>\n",
       "    </tr>\n",
       "  </thead>\n",
       "  <tbody>\n",
       "    <tr>\n",
       "      <th>0</th>\n",
       "      <td>Claudia Oliver</td>\n",
       "      <td>\"Front-line dedicated conglomeration\"</td>\n",
       "      <td>tranrachel@contreras.org</td>\n",
       "      <td>(891)667-8448</td>\n",
       "      <td>7156 Laura Vista \\n                New Randyfu...</td>\n",
       "    </tr>\n",
       "    <tr>\n",
       "      <th>1</th>\n",
       "      <td>Kelsey Kaiser</td>\n",
       "      <td>\"Multi-channeled well-modulated archive\"</td>\n",
       "      <td>raustin@hotmail.com</td>\n",
       "      <td>939-229-3582x57502</td>\n",
       "      <td>4790 Jo Trail \\n                East Mariaport...</td>\n",
       "    </tr>\n",
       "    <tr>\n",
       "      <th>2</th>\n",
       "      <td>David Miller</td>\n",
       "      <td>\"Front-line 4thgeneration algorithm\"</td>\n",
       "      <td>umanning@vasquez.com</td>\n",
       "      <td>779.982.2138x13450</td>\n",
       "      <td>34147 Cummings Corners Apt. 228 \\n            ...</td>\n",
       "    </tr>\n",
       "    <tr>\n",
       "      <th>3</th>\n",
       "      <td>Kimberly Rodriguez</td>\n",
       "      <td>\"Decentralized bottom-line analyzer\"</td>\n",
       "      <td>timothycox@stanley.com</td>\n",
       "      <td>(717)765-2982</td>\n",
       "      <td>90625 Miller Run Apt. 996 \\n                Na...</td>\n",
       "    </tr>\n",
       "    <tr>\n",
       "      <th>4</th>\n",
       "      <td>Benjamin Daniel</td>\n",
       "      <td>\"Reactive demand-driven project\"</td>\n",
       "      <td>zarmstrong@hotmail.com</td>\n",
       "      <td>+1-605-633-2738</td>\n",
       "      <td>95925 Frank Harbors Apt. 859 \\n               ...</td>\n",
       "    </tr>\n",
       "    <tr>\n",
       "      <th>5</th>\n",
       "      <td>Brandon Smith</td>\n",
       "      <td>\"Object-based radical hierarchy\"</td>\n",
       "      <td>lstewart@bell.com</td>\n",
       "      <td>+1-367-761-6604x68246</td>\n",
       "      <td>0916 Harris Port Suite 730 \\n                S...</td>\n",
       "    </tr>\n",
       "    <tr>\n",
       "      <th>6</th>\n",
       "      <td>Danielle Armstrong</td>\n",
       "      <td>\"Up-sized attitude-oriented application\"</td>\n",
       "      <td>kristibarber@hotmail.com</td>\n",
       "      <td>001-563-419-0100x329</td>\n",
       "      <td>1631 Emily Manors \\n                Fernandezv...</td>\n",
       "    </tr>\n",
       "    <tr>\n",
       "      <th>7</th>\n",
       "      <td>Kiara Bird</td>\n",
       "      <td>\"Fundamental optimal function\"</td>\n",
       "      <td>angelpoole@norman.info</td>\n",
       "      <td>536-255-0589</td>\n",
       "      <td>47977 Haney Ramp \\n                New John, N...</td>\n",
       "    </tr>\n",
       "    <tr>\n",
       "      <th>8</th>\n",
       "      <td>Joshua Jenkins</td>\n",
       "      <td>\"Multi-lateral mission-critical toolset\"</td>\n",
       "      <td>jacksonchristopher@donaldson-brown.org</td>\n",
       "      <td>672-188-1507x680</td>\n",
       "      <td>160 Hannah Wall \\n                New Chase, I...</td>\n",
       "    </tr>\n",
       "    <tr>\n",
       "      <th>9</th>\n",
       "      <td>Robert Griffin</td>\n",
       "      <td>\"Managed high-level database\"</td>\n",
       "      <td>john41@fry.com</td>\n",
       "      <td>(249)949-8343</td>\n",
       "      <td>8080 Ashley Squares Apt. 142 \\n               ...</td>\n",
       "    </tr>\n",
       "  </tbody>\n",
       "</table>\n",
       "</div>"
      ],
      "text/plain": [
       "                 name                                     quote  \\\n",
       "0      Claudia Oliver     \"Front-line dedicated conglomeration\"   \n",
       "1       Kelsey Kaiser  \"Multi-channeled well-modulated archive\"   \n",
       "2        David Miller      \"Front-line 4thgeneration algorithm\"   \n",
       "3  Kimberly Rodriguez      \"Decentralized bottom-line analyzer\"   \n",
       "4     Benjamin Daniel          \"Reactive demand-driven project\"   \n",
       "5       Brandon Smith          \"Object-based radical hierarchy\"   \n",
       "6  Danielle Armstrong  \"Up-sized attitude-oriented application\"   \n",
       "7          Kiara Bird            \"Fundamental optimal function\"   \n",
       "8      Joshua Jenkins  \"Multi-lateral mission-critical toolset\"   \n",
       "9      Robert Griffin             \"Managed high-level database\"   \n",
       "\n",
       "                            email_address           phone_number  \\\n",
       "0                tranrachel@contreras.org          (891)667-8448   \n",
       "1                     raustin@hotmail.com     939-229-3582x57502   \n",
       "2                    umanning@vasquez.com     779.982.2138x13450   \n",
       "3                  timothycox@stanley.com          (717)765-2982   \n",
       "4                  zarmstrong@hotmail.com        +1-605-633-2738   \n",
       "5                       lstewart@bell.com  +1-367-761-6604x68246   \n",
       "6                kristibarber@hotmail.com   001-563-419-0100x329   \n",
       "7                  angelpoole@norman.info           536-255-0589   \n",
       "8  jacksonchristopher@donaldson-brown.org       672-188-1507x680   \n",
       "9                          john41@fry.com          (249)949-8343   \n",
       "\n",
       "                                             address  \n",
       "0  7156 Laura Vista \\n                New Randyfu...  \n",
       "1  4790 Jo Trail \\n                East Mariaport...  \n",
       "2  34147 Cummings Corners Apt. 228 \\n            ...  \n",
       "3  90625 Miller Run Apt. 996 \\n                Na...  \n",
       "4  95925 Frank Harbors Apt. 859 \\n               ...  \n",
       "5  0916 Harris Port Suite 730 \\n                S...  \n",
       "6  1631 Emily Manors \\n                Fernandezv...  \n",
       "7  47977 Haney Ramp \\n                New John, N...  \n",
       "8  160 Hannah Wall \\n                New Chase, I...  \n",
       "9  8080 Ashley Squares Apt. 142 \\n               ...  "
      ]
     },
     "execution_count": 24,
     "metadata": {},
     "output_type": "execute_result"
    }
   ],
   "source": [
    "# create a dataframe from the list of people\n",
    "pd.DataFrame([parse_people_article(person) for person in people])"
   ]
  },
  {
   "cell_type": "code",
   "execution_count": null,
   "metadata": {},
   "outputs": [],
   "source": []
  }
 ],
 "metadata": {
  "kernelspec": {
   "display_name": "Python 3 (ipykernel)",
   "language": "python",
   "name": "python3"
  },
  "language_info": {
   "codemirror_mode": {
    "name": "ipython",
    "version": 3
   },
   "file_extension": ".py",
   "mimetype": "text/x-python",
   "name": "python",
   "nbconvert_exporter": "python",
   "pygments_lexer": "ipython3",
   "version": "3.9.7"
  }
 },
 "nbformat": 4,
 "nbformat_minor": 2
}
